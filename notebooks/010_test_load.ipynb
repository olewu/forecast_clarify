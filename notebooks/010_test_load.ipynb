{
 "cells": [
  {
   "cell_type": "markdown",
   "metadata": {},
   "source": [
    "## Test the operational part of the persistence model with an artificial initial value"
   ]
  },
  {
   "cell_type": "code",
   "execution_count": 1,
   "metadata": {},
   "outputs": [],
   "source": [
    "# Load the forecasting utility:\n",
    "from forecast_clarify import *\n"
   ]
  },
  {
   "cell_type": "code",
   "execution_count": 2,
   "metadata": {},
   "outputs": [],
   "source": [
    "# See all available dataset\n",
    "datasets = get_datasets()"
   ]
  },
  {
   "cell_type": "code",
   "execution_count": 4,
   "metadata": {},
   "outputs": [],
   "source": [
    "# Create some example data to initialize the model with.\n",
    "# Observations loaded from clarify should be in the same form, i.e.\n",
    "# a station name as string, an initial time as np.datetime64\n",
    "# and an initial 3m water temperature value, which should be a \n",
    "# 7-day mean\n",
    "\n",
    "ds = load_dataset(datasets[5])\n",
    "# create some artifical initial values:\n",
    "init_value_xr = xr.DataArray(\n",
    "    10.2*np.ones(len(ds.location)),\n",
    "    dims = {'location':len(ds.location)},\n",
    "    coords = {'location':(('location',),ds.location.values)}\n",
    ")\n",
    "init_value = init_value_xr.to_pandas()\n",
    "# use arbitrary initialization time:\n",
    "init_time = np.datetime64('2022-10-20')\n",
    "# use an arbitrary Eide station\n",
    "station_name = 'Hågardsneset'"
   ]
  },
  {
   "cell_type": "code",
   "execution_count": 5,
   "metadata": {},
   "outputs": [
    {
     "name": "stdout",
     "output_type": "stream",
     "text": [
      "22095\n"
     ]
    }
   ],
   "source": [
    "# find the station ID corresponding to the station name\n",
    "# note that this might fail to find the station or return multiple matches\n",
    "stat_id = find_station_in_bw(station_name)[0]\n",
    "print(stat_id)"
   ]
  },
  {
   "cell_type": "code",
   "execution_count": 6,
   "metadata": {},
   "outputs": [],
   "source": [
    "# make a forecast of water temperatures at 3m depth at a station with ID `station_id`\n",
    "# based on the 7-day mean water temperature value (`init_value`)\n",
    "# at the specified time (`init_time`)\n",
    "abs_temp_fc = make_persistence_forecast(init_value_xr.sel(location=22095).values.item(),init_time,station_id=stat_id)"
   ]
  },
  {
   "cell_type": "code",
   "execution_count": 7,
   "metadata": {},
   "outputs": [
    {
     "data": {
      "text/html": [
       "<div>\n",
       "<style scoped>\n",
       "    .dataframe tbody tr th:only-of-type {\n",
       "        vertical-align: middle;\n",
       "    }\n",
       "\n",
       "    .dataframe tbody tr th {\n",
       "        vertical-align: top;\n",
       "    }\n",
       "\n",
       "    .dataframe thead th {\n",
       "        text-align: right;\n",
       "    }\n",
       "</style>\n",
       "<table border=\"1\" class=\"dataframe\">\n",
       "  <thead>\n",
       "    <tr style=\"text-align: right;\">\n",
       "      <th></th>\n",
       "      <th>time</th>\n",
       "      <th>depth</th>\n",
       "      <th>location</th>\n",
       "      <th>loc_name</th>\n",
       "      <th>lon</th>\n",
       "      <th>lat</th>\n",
       "      <th>time_doy</th>\n",
       "      <th>temperature</th>\n",
       "    </tr>\n",
       "    <tr>\n",
       "      <th>lags</th>\n",
       "      <th></th>\n",
       "      <th></th>\n",
       "      <th></th>\n",
       "      <th></th>\n",
       "      <th></th>\n",
       "      <th></th>\n",
       "      <th></th>\n",
       "      <th></th>\n",
       "    </tr>\n",
       "  </thead>\n",
       "  <tbody>\n",
       "    <tr>\n",
       "      <th>0</th>\n",
       "      <td>2022-10-20</td>\n",
       "      <td>3</td>\n",
       "      <td>22095</td>\n",
       "      <td>Hågardsneset</td>\n",
       "      <td>5.929967</td>\n",
       "      <td>59.9844</td>\n",
       "      <td>293</td>\n",
       "      <td>10.200000</td>\n",
       "    </tr>\n",
       "    <tr>\n",
       "      <th>1</th>\n",
       "      <td>2022-10-27</td>\n",
       "      <td>3</td>\n",
       "      <td>22095</td>\n",
       "      <td>Hågardsneset</td>\n",
       "      <td>5.929967</td>\n",
       "      <td>59.9844</td>\n",
       "      <td>300</td>\n",
       "      <td>9.874205</td>\n",
       "    </tr>\n",
       "    <tr>\n",
       "      <th>2</th>\n",
       "      <td>2022-11-03</td>\n",
       "      <td>3</td>\n",
       "      <td>22095</td>\n",
       "      <td>Hågardsneset</td>\n",
       "      <td>5.929967</td>\n",
       "      <td>59.9844</td>\n",
       "      <td>307</td>\n",
       "      <td>9.461670</td>\n",
       "    </tr>\n",
       "    <tr>\n",
       "      <th>3</th>\n",
       "      <td>2022-11-10</td>\n",
       "      <td>3</td>\n",
       "      <td>22095</td>\n",
       "      <td>Hågardsneset</td>\n",
       "      <td>5.929967</td>\n",
       "      <td>59.9844</td>\n",
       "      <td>314</td>\n",
       "      <td>9.001531</td>\n",
       "    </tr>\n",
       "    <tr>\n",
       "      <th>4</th>\n",
       "      <td>2022-11-17</td>\n",
       "      <td>3</td>\n",
       "      <td>22095</td>\n",
       "      <td>Hågardsneset</td>\n",
       "      <td>5.929967</td>\n",
       "      <td>59.9844</td>\n",
       "      <td>321</td>\n",
       "      <td>8.704601</td>\n",
       "    </tr>\n",
       "    <tr>\n",
       "      <th>5</th>\n",
       "      <td>2022-11-24</td>\n",
       "      <td>3</td>\n",
       "      <td>22095</td>\n",
       "      <td>Hågardsneset</td>\n",
       "      <td>5.929967</td>\n",
       "      <td>59.9844</td>\n",
       "      <td>328</td>\n",
       "      <td>8.392858</td>\n",
       "    </tr>\n",
       "  </tbody>\n",
       "</table>\n",
       "</div>"
      ],
      "text/plain": [
       "           time  depth  location      loc_name       lon      lat  time_doy  \\\n",
       "lags                                                                          \n",
       "0    2022-10-20      3     22095  Hågardsneset  5.929967  59.9844       293   \n",
       "1    2022-10-27      3     22095  Hågardsneset  5.929967  59.9844       300   \n",
       "2    2022-11-03      3     22095  Hågardsneset  5.929967  59.9844       307   \n",
       "3    2022-11-10      3     22095  Hågardsneset  5.929967  59.9844       314   \n",
       "4    2022-11-17      3     22095  Hågardsneset  5.929967  59.9844       321   \n",
       "5    2022-11-24      3     22095  Hågardsneset  5.929967  59.9844       328   \n",
       "\n",
       "      temperature  \n",
       "lags               \n",
       "0       10.200000  \n",
       "1        9.874205  \n",
       "2        9.461670  \n",
       "3        9.001531  \n",
       "4        8.704601  \n",
       "5        8.392858  "
      ]
     },
     "execution_count": 7,
     "metadata": {},
     "output_type": "execute_result"
    }
   ],
   "source": [
    "# print output to check:\n",
    "abs_temp_fc"
   ]
  }
 ],
 "metadata": {
  "kernelspec": {
   "display_name": "forecast_clarify",
   "language": "python",
   "name": "forecast_clarify"
  },
  "language_info": {
   "codemirror_mode": {
    "name": "ipython",
    "version": 3
   },
   "file_extension": ".py",
   "mimetype": "text/x-python",
   "name": "python",
   "nbconvert_exporter": "python",
   "pygments_lexer": "ipython3",
   "version": "3.9.7"
  },
  "vscode": {
   "interpreter": {
    "hash": "aee8b7b246df8f9039afb4144a1f6fd8d2ca17a180786b69acc140d282b71a49"
   }
  }
 },
 "nbformat": 4,
 "nbformat_minor": 2
}
